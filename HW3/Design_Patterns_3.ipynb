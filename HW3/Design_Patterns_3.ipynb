{
 "cells": [
  {
   "cell_type": "markdown",
   "metadata": {
    "id": "3rcHK1mJjiR3"
   },
   "source": [
    "## Singleton Method"
   ]
  },
  {
   "cell_type": "markdown",
   "metadata": {
    "id": "rMCOcViKjiR6"
   },
   "source": [
    "```\n",
    "Singleton Method is a type of Creational Design pattern and is one of the simplest design pattern available to us. It is a way to provide one and only one object of a particular type.\n",
    "```"
   ]
  },
  {
   "cell_type": "markdown",
   "metadata": {
    "id": "7Yeo0edOjiR7"
   },
   "source": [
    "### Method1 : Monostate/Borg Singleton Design pattern\n",
    "\n",
    "```\n",
    "Instead of having only one instance of the class there are multiple instances that share the same state. \n",
    "```"
   ]
  },
  {
   "cell_type": "code",
   "execution_count": null,
   "metadata": {
    "id": "-ttqr2f0jiR7",
    "outputId": "dc47e353-b350-47ba-d9d3-e575f2ed3ac6"
   },
   "outputs": [
    {
     "name": "stdout",
     "output_type": "stream",
     "text": [
      "some state\n",
      "some state\n",
      "object2 state\n",
      "object2 state\n",
      "object3 state\n",
      "object3 state\n",
      "object3 state\n"
     ]
    }
   ],
   "source": [
    "class Borg:\n",
    "  \n",
    "    # state shared by each instance\n",
    "    __shared_state = dict()\n",
    "    \n",
    "    # constructor method\n",
    "    def __init__(self):\n",
    "  \n",
    "        self.__dict__ = self.__shared_state #stores class attributes\n",
    "        self.state = 'some state'\n",
    "\n",
    "  \n",
    "obj1 = Borg()    # object of class Borg\n",
    "obj2 = Borg()    # object of class Borg\n",
    "obj3 = Borg()    # object of class Borg\n",
    "\n",
    "print(obj1.state)   \n",
    "print(obj2.state)\n",
    "\n",
    "obj1.state = 'object1 state' # obj1 changed the state\n",
    "obj2.state = 'object2 state'     # obj2 changed the state\n",
    "\n",
    "print(obj1.state)    # output --> object2 state\n",
    "print(obj2.state)    # output --> object2 state\n",
    "\n",
    "obj3.state = 'object3 state'  # obj3 changed the\n",
    "                     # the shared state\n",
    "\n",
    "print(obj1.state)    # output --> Geeks\n",
    "print(obj2.state)    # output --> Geeks\n",
    "print(obj3.state)    # output --> Geeks"
   ]
  },
  {
   "cell_type": "code",
   "execution_count": null,
   "metadata": {
    "id": "wpELGQS7jiR8",
    "outputId": "21e35e25-9452-487f-b67a-bea3c991a9c0"
   },
   "outputs": [
    {
     "data": {
      "text/plain": [
       "(140355282728528, 140355282728592)"
      ]
     },
     "execution_count": 4,
     "metadata": {},
     "output_type": "execute_result"
    }
   ],
   "source": [
    "id(obj1), id(obj2)"
   ]
  },
  {
   "cell_type": "code",
   "execution_count": null,
   "metadata": {
    "id": "ABPyozmvjiR9",
    "outputId": "c38c347b-f3bd-4e7f-d74f-729635d103bf"
   },
   "outputs": [
    {
     "name": "stdout",
     "output_type": "stream",
     "text": [
      "Putin\n"
     ]
    },
    {
     "data": {
      "text/plain": [
       "'Putin'"
      ]
     },
     "execution_count": 20,
     "metadata": {},
     "output_type": "execute_result"
    }
   ],
   "source": [
    "#Government elections\n",
    "\n",
    "class Government:\n",
    "    \n",
    "    __shared_state = dict()\n",
    "    \n",
    "    def __init__(self):\n",
    "        self.__dict__ = self.__shared_state\n",
    "        \n",
    "    def choose_president(self, candidate):\n",
    "        self.president = candidate\n",
    "        \n",
    "russian_gov = Government()\n",
    "russian_gov.president = 'Putin'\n",
    "print(russian_gov.president)\n",
    "moldovian_gov = Government()\n",
    "moldovian_gov.president"
   ]
  },
  {
   "cell_type": "code",
   "execution_count": null,
   "metadata": {
    "id": "PURqGXsqjiR-",
    "outputId": "54cb240d-87a6-4e51-f33f-c96682886302"
   },
   "outputs": [
    {
     "data": {
      "text/plain": [
       "'David'"
      ]
     },
     "execution_count": 21,
     "metadata": {},
     "output_type": "execute_result"
    }
   ],
   "source": [
    "moldovian_gov.president = 'David'\n",
    "russian_gov.president"
   ]
  },
  {
   "cell_type": "markdown",
   "metadata": {
    "id": "Gl9mwsJWjiR_"
   },
   "source": [
    "### Classic implementation of Singleton Design Pattern\n",
    "\n",
    "```\n",
    "We simply use the static method for creating the getInstance method which has the ability to return the shared resource.\n",
    "```"
   ]
  },
  {
   "cell_type": "code",
   "execution_count": null,
   "metadata": {
    "id": "wAB13y5fjiSA",
    "outputId": "0e154c03-69f7-4d95-eb34-5ab87cf23af0"
   },
   "outputs": [
    {
     "name": "stdout",
     "output_type": "stream",
     "text": [
      "<__main__.Singleton object at 0x7fa702bfd350>\n",
      "<__main__.Singleton object at 0x7fa702bfd350>\n"
     ]
    }
   ],
   "source": [
    "class Singleton:\n",
    "  \n",
    "    __shared_instance = 'initial_state'\n",
    "  \n",
    "    @staticmethod\n",
    "    def getInstance():\n",
    "  \n",
    "        \"\"\"Static Access Method\"\"\"\n",
    "        if Singleton.__shared_instance == 'initial_state':\n",
    "            Singleton()\n",
    "        return Singleton.__shared_instance\n",
    "  \n",
    "    def __init__(self):\n",
    "  \n",
    "        if Singleton.__shared_instance != 'initial_state':\n",
    "            raise Exception (\"This class is a singleton class !\")\n",
    "        else:\n",
    "            Singleton.__shared_instance = self\n",
    "  \n",
    "\n",
    "# create object of Singleton Class\n",
    "obj = Singleton()\n",
    "print(obj)\n",
    "\n",
    "# pick the instance of the class\n",
    "obj = Singleton.getInstance()\n",
    "print(obj)"
   ]
  },
  {
   "cell_type": "code",
   "execution_count": null,
   "metadata": {
    "id": "asTB_f7wjiSB",
    "outputId": "685d1542-5e1a-454b-c7f2-2790594d87b7"
   },
   "outputs": [
    {
     "ename": "Exception",
     "evalue": "This class is a singleton class !",
     "output_type": "error",
     "traceback": [
      "\u001b[0;31m---------------------------------------------------------------------------\u001b[0m",
      "\u001b[0;31mException\u001b[0m                                 Traceback (most recent call last)",
      "\u001b[0;32m<ipython-input-6-5b9974b9aee6>\u001b[0m in \u001b[0;36m<module>\u001b[0;34m\u001b[0m\n\u001b[0;32m----> 1\u001b[0;31m \u001b[0mobj1\u001b[0m \u001b[0;34m=\u001b[0m \u001b[0mSingleton\u001b[0m\u001b[0;34m(\u001b[0m\u001b[0;34m)\u001b[0m\u001b[0;34m\u001b[0m\u001b[0;34m\u001b[0m\u001b[0m\n\u001b[0m",
      "\u001b[0;32m<ipython-input-5-654bb7c07e77>\u001b[0m in \u001b[0;36m__init__\u001b[0;34m(self)\u001b[0m\n\u001b[1;32m     14\u001b[0m \u001b[0;34m\u001b[0m\u001b[0m\n\u001b[1;32m     15\u001b[0m         \u001b[0;32mif\u001b[0m \u001b[0mSingleton\u001b[0m\u001b[0;34m.\u001b[0m\u001b[0m__shared_instance\u001b[0m \u001b[0;34m!=\u001b[0m \u001b[0;34m'initial_state'\u001b[0m\u001b[0;34m:\u001b[0m\u001b[0;34m\u001b[0m\u001b[0;34m\u001b[0m\u001b[0m\n\u001b[0;32m---> 16\u001b[0;31m             \u001b[0;32mraise\u001b[0m \u001b[0mException\u001b[0m \u001b[0;34m(\u001b[0m\u001b[0;34m\"This class is a singleton class !\"\u001b[0m\u001b[0;34m)\u001b[0m\u001b[0;34m\u001b[0m\u001b[0;34m\u001b[0m\u001b[0m\n\u001b[0m\u001b[1;32m     17\u001b[0m         \u001b[0;32melse\u001b[0m\u001b[0;34m:\u001b[0m\u001b[0;34m\u001b[0m\u001b[0;34m\u001b[0m\u001b[0m\n\u001b[1;32m     18\u001b[0m             \u001b[0mSingleton\u001b[0m\u001b[0;34m.\u001b[0m\u001b[0m__shared_instance\u001b[0m \u001b[0;34m=\u001b[0m \u001b[0mself\u001b[0m\u001b[0;34m\u001b[0m\u001b[0;34m\u001b[0m\u001b[0m\n",
      "\u001b[0;31mException\u001b[0m: This class is a singleton class !"
     ]
    }
   ],
   "source": [
    "obj1 = Singleton()"
   ]
  },
  {
   "cell_type": "code",
   "execution_count": null,
   "metadata": {
    "id": "laxr-ebyjiSC",
    "outputId": "068ed947-be4b-4853-a1d7-5e7bb37025b8"
   },
   "outputs": [
    {
     "name": "stdout",
     "output_type": "stream",
     "text": [
      "Connection established!\n"
     ]
    }
   ],
   "source": [
    "class DBConnection:\n",
    "  \n",
    "    __shared_instance = 'not connected'\n",
    "  \n",
    "    @staticmethod\n",
    "    def getInstance():\n",
    "  \n",
    "        \"\"\"Static Access Method\"\"\"\n",
    "        if DBConnection.__shared_instance == 'not connected':\n",
    "            DBConnection()\n",
    "        return DBConnection.__shared_instance\n",
    "  \n",
    "    def __init__(self):\n",
    "  \n",
    "        if DBConnection.__shared_instance != 'not connected':\n",
    "            raise Exception (\"This class is a singleton class !\")\n",
    "        else:\n",
    "            DBConnection.__shared_instance = self\n",
    "            \n",
    "    def connect(self):\n",
    "        print('Connection established!')\n",
    "        \n",
    "conn1 = DBConnection()\n",
    "conn1.connect()"
   ]
  },
  {
   "cell_type": "code",
   "execution_count": null,
   "metadata": {
    "id": "J0OvbkkbjiSD",
    "outputId": "0fd02dbd-a354-4e49-db62-151b76c82434"
   },
   "outputs": [
    {
     "ename": "Exception",
     "evalue": "This class is a singleton class !",
     "output_type": "error",
     "traceback": [
      "\u001b[0;31m---------------------------------------------------------------------------\u001b[0m",
      "\u001b[0;31mException\u001b[0m                                 Traceback (most recent call last)",
      "\u001b[0;32m<ipython-input-8-39ad415be2d4>\u001b[0m in \u001b[0;36m<module>\u001b[0;34m\u001b[0m\n\u001b[0;32m----> 1\u001b[0;31m \u001b[0mconn2\u001b[0m \u001b[0;34m=\u001b[0m \u001b[0mDBConnection\u001b[0m\u001b[0;34m(\u001b[0m\u001b[0;34m)\u001b[0m\u001b[0;34m\u001b[0m\u001b[0;34m\u001b[0m\u001b[0m\n\u001b[0m",
      "\u001b[0;32m<ipython-input-7-fd7b83a480c2>\u001b[0m in \u001b[0;36m__init__\u001b[0;34m(self)\u001b[0m\n\u001b[1;32m     14\u001b[0m \u001b[0;34m\u001b[0m\u001b[0m\n\u001b[1;32m     15\u001b[0m         \u001b[0;32mif\u001b[0m \u001b[0mDBConnection\u001b[0m\u001b[0;34m.\u001b[0m\u001b[0m__shared_instance\u001b[0m \u001b[0;34m!=\u001b[0m \u001b[0;34m'not connected'\u001b[0m\u001b[0;34m:\u001b[0m\u001b[0;34m\u001b[0m\u001b[0;34m\u001b[0m\u001b[0m\n\u001b[0;32m---> 16\u001b[0;31m             \u001b[0;32mraise\u001b[0m \u001b[0mException\u001b[0m \u001b[0;34m(\u001b[0m\u001b[0;34m\"This class is a singleton class !\"\u001b[0m\u001b[0;34m)\u001b[0m\u001b[0;34m\u001b[0m\u001b[0;34m\u001b[0m\u001b[0m\n\u001b[0m\u001b[1;32m     17\u001b[0m         \u001b[0;32melse\u001b[0m\u001b[0;34m:\u001b[0m\u001b[0;34m\u001b[0m\u001b[0;34m\u001b[0m\u001b[0m\n\u001b[1;32m     18\u001b[0m             \u001b[0mDBConnection\u001b[0m\u001b[0;34m.\u001b[0m\u001b[0m__shared_instance\u001b[0m \u001b[0;34m=\u001b[0m \u001b[0mself\u001b[0m\u001b[0;34m\u001b[0m\u001b[0;34m\u001b[0m\u001b[0m\n",
      "\u001b[0;31mException\u001b[0m: This class is a singleton class !"
     ]
    }
   ],
   "source": [
    "conn2 = DBConnection()"
   ]
  },
  {
   "cell_type": "markdown",
   "metadata": {
    "id": "Ye4AZDbEjiSD"
   },
   "source": [
    "### Advantages \n",
    "\n",
    "```\n",
    "- Only one object initialization \n",
    "- Small count of instances: In singleton method classes can’t have more than one instance\n",
    "```\n",
    "### Disadvantages\n",
    "\n",
    "```\n",
    "- Multithread Environment: Its not easy to use the singleton method in multithread environment, because we have to take care that multithread wouldn’t create singleton object several times.\n",
    "```\n",
    "\n",
    "### Applicability\n",
    "\n",
    "```\n",
    "Controlling over global variables: In the projects where we specifically need the strong control over the global variables, it is highy recommended to use Singleton Method\n",
    "Singleton patterns are generally used in providing the logging, caching, db connections and configuration settings.\n",
    "```"
   ]
  },
  {
   "cell_type": "markdown",
   "metadata": {
    "id": "83eKg6jwjiSF"
   },
   "source": [
    "## Adapter Method"
   ]
  },
  {
   "cell_type": "markdown",
   "metadata": {
    "id": "CA5Qj0IIjiSF"
   },
   "source": [
    "```\n",
    "Adapter method is a Structural Design Pattern which helps us in making the incompatible objects adaptable to each other.\n",
    "```"
   ]
  },
  {
   "cell_type": "markdown",
   "metadata": {
    "id": "lVgGmvxcjiSG"
   },
   "source": [
    "![image.png](attachment:image.png)"
   ]
  },
  {
   "cell_type": "markdown",
   "metadata": {
    "id": "JdcDSlMcjiSG"
   },
   "source": [
    "### Example 1\n",
    "\n",
    "```\n",
    "Language not understandable to the user.\n",
    "```"
   ]
  },
  {
   "cell_type": "code",
   "execution_count": null,
   "metadata": {
    "id": "04HKFH7gjiSH",
    "outputId": "176e986e-f8eb-4408-a218-c4004f365f8f"
   },
   "outputs": [
    {
     "name": "stdout",
     "output_type": "stream",
     "text": [
      "Hello!\n"
     ]
    }
   ],
   "source": [
    "import abc\n",
    " \n",
    " \n",
    "class Target(metaclass=abc.ABCMeta):\n",
    "    \"\"\"\n",
    "    Define the domain-specific interface that Client uses.\n",
    "    \"\"\"\n",
    " \n",
    "    def __init__(self):\n",
    "        self.adaptee = Adaptee()\n",
    " \n",
    "    @abc.abstractmethod\n",
    "    def request(self):\n",
    "        pass\n",
    " \n",
    " \n",
    "class Adapter(Target):\n",
    "    \"\"\"\n",
    "    Adapt the interface of Adaptee to the Target interface.\n",
    "    \"\"\"\n",
    " \n",
    "    def request(self):\n",
    "        print(self.adaptee.specific_request()[::-1])\n",
    " \n",
    " \n",
    "class Adaptee:\n",
    "    \"\"\"\n",
    "    Define an existing interface that needs adapting.\n",
    "    \"\"\"\n",
    " \n",
    "    def specific_request(self):\n",
    "        return \"!olleH\"\n",
    " \n",
    " \n",
    "adapter = Adapter()\n",
    "adapter.request()"
   ]
  },
  {
   "cell_type": "markdown",
   "metadata": {
    "id": "xAULyQLxjiSH"
   },
   "source": [
    "### Example 2\n",
    "\n",
    "```\n",
    "Electric kettle, different sockets and adapters.\n",
    "```"
   ]
  },
  {
   "cell_type": "code",
   "execution_count": null,
   "metadata": {
    "id": "uerbnqZajiSI",
    "outputId": "9e0c47e8-4c3e-4157-a93c-062459ea3987"
   },
   "outputs": [
    {
     "name": "stdout",
     "output_type": "stream",
     "text": [
      "Coffee time!\n"
     ]
    }
   ],
   "source": [
    "import numpy as np\n",
    "# Adaptee1\n",
    "class EuropeanSocket:\n",
    "    \n",
    "    def __init__(self):\n",
    "        self.voltage = 219\n",
    "        \n",
    "# Adaptee2\n",
    "class USSocket:\n",
    "    \n",
    "    def __init__(self):\n",
    "        self.voltage = 109\n",
    "    \n",
    "# Adapter\n",
    "class Adapter:\n",
    "   \n",
    "    def get_available_adapter(self):\n",
    "        return EUtoUSAdapter()\n",
    "    \n",
    "class EUtoUSAdapter:\n",
    "    \n",
    "    def __init__(self):\n",
    "        self.voltage_range = np.arange(0,110)\n",
    "            \n",
    "  \n",
    "#Client\n",
    "class ElectricKettle:\n",
    "   \n",
    "    def __init__(self, voltage, adapter, socket):\n",
    "        self.voltage = voltage\n",
    "        self.adapter = adapter\n",
    "        self.socket = socket\n",
    "   \n",
    "    def boil(self):\n",
    "        if self.socket.voltage not in self.adapter.voltage_range:\n",
    "            print(\"Kettle on fire!\")\n",
    "        else:\n",
    "            print('Coffee time!')\n",
    "\n",
    "\n",
    "socket = USSocket()\n",
    "adapter = Adapter().get_available_adapter()\n",
    "kettle = ElectricKettle(200, adapter, socket)\n",
    "kettle.boil()"
   ]
  },
  {
   "cell_type": "markdown",
   "metadata": {
    "id": "zhAE-Uw_jiSI"
   },
   "source": [
    "### Advantages\n",
    "\n",
    "```\n",
    "- Principle of Single Responsibility: We can achieve the principle of Single responsibility with Adapter Method because here we can separate the concrete code from the primary logic of the client.\n",
    "- Flexibility: Adapter Method helps in achieving the flexibility and reusability of the code.\n",
    "- Less complicated class: Our client class is not complicated by having to use a different interface and can swap between different implementations of adapters.\n",
    "```\n",
    "\n",
    "### Disadvantages\n",
    "\n",
    "```\n",
    "Complexity of the Code: As we have introduced the set of new classes, objects and interfaces, the complexity of our code definitely rises.\n",
    "```\n",
    "\n",
    "### Applicability\n",
    "\n",
    "```\n",
    "To make classes and interfaces compatible : Adapter method is always used when we are in need to make certain classes compatible to communicate.\n",
    "```"
   ]
  }
 ],
 "metadata": {
  "colab": {
   "name": "Design_Patterns_3.ipynb",
   "provenance": []
  },
  "kernelspec": {
   "display_name": "Python 3 (ipykernel)",
   "language": "python",
   "name": "python3"
  },
  "language_info": {
   "codemirror_mode": {
    "name": "ipython",
    "version": 3
   },
   "file_extension": ".py",
   "mimetype": "text/x-python",
   "name": "python",
   "nbconvert_exporter": "python",
   "pygments_lexer": "ipython3",
   "version": "3.9.7"
  }
 },
 "nbformat": 4,
 "nbformat_minor": 4
}

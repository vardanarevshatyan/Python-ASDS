{
 "cells": [
  {
   "cell_type": "raw",
   "metadata": {
    "id": "MzEECmtEam0C",
    "pycharm": {
     "name": "#%% raw\n"
    }
   },
   "source": [
    "## Problem 1\n",
    "\n",
    "```\n",
    "Let say you want to send a message to someone. You have 2 options - you can Email the message or SMS the message to the corresponding person. So, you have two options to send the message and the client side code will use one of the implementations to send the message to the corresponding person. Use Bridge Design Pattern to implement the logic with classes of your choice and make sure to test the implementation with some concrete objects.\n",
    "```"
   ]
  },
  {
   "cell_type": "raw",
   "metadata": {
    "id": "aDVe_24Lam0F",
    "pycharm": {
     "name": "#%% raw\n"
    }
   },
   "source": [
    "## Problem 2\n",
    "\n",
    "```\n",
    "Follow the diagram below and use Composite Design Pattern to implement and test the logic. Add any other classes of your choice. The top of your hierchy will be the box which will contain Instrument Collection which will contain instruments. \n",
    "```"
   ]
  },
  {
   "cell_type": "raw",
   "metadata": {
    "id": "h0BZ2VRtam0G",
    "pycharm": {
     "name": "#%% raw\n"
    }
   },
   "source": [
    "![image.png](attachment:image.png)"
   ]
  }
 ],
 "metadata": {
  "kernelspec": {
   "display_name": "Python 3",
   "language": "python",
   "name": "python3"
  },
  "language_info": {
   "codemirror_mode": {
    "name": "ipython",
    "version": 3
   },
   "file_extension": ".py",
   "mimetype": "text/x-python",
   "name": "python",
   "nbconvert_exporter": "python",
   "pygments_lexer": "ipython3",
   "version": "3.7.4"
  },
  "colab": {
   "name": "practical_homework_4.ipynb",
   "provenance": []
  }
 },
 "nbformat": 4,
 "nbformat_minor": 0
}
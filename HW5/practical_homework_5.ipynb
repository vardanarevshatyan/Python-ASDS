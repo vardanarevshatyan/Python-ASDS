{
 "cells": [
  {
   "cell_type": "raw",
   "metadata": {
    "pycharm": {
     "name": "#%% raw\n"
    }
   },
   "source": [
    "## Problem 1\n",
    "\n",
    "```\n",
    "Create a Person class which will have attributes Name, Last Name, Email and Age. Use the Decorator pattern and any additional classes of your choice to implement the following logic:\n",
    "If the Person is a child (age<14), s/he wants the information about them printed as follows: *** &&& Name - Last Name - Email &&& ***. Otherwise, print the information like this: &&& Name - Last Name - Email &&&.  \n",
    "\n",
    "Ստեղծեք Person class-ը, որն ունի հետևյալ attribute-ները՝ Name, Last Name, Email և Age։ Գործածեք Decorator pattern և ձեր ընտրությամբ ցանկացած լրացուցիչ class-ներ հետևյալ տրամաբանությունը ստանալու համար՝ \n",
    "Եթե Person կլասի օբյեկտը երեխա է (age<14)՝ նա ցանկանում է, որ իր մասին ինֆորմացիան արտածվի այսպես՝ *** &&& Name - Last Name - Email &&& ***. Հակառակ դեպքում, եթե մարդը մեծահասակ է, իր մասին ինֆորմացիան պետք է արտածվի հետևյալ կերպ՝ &&& Name - Last Name - Email &&&։ \n",
    "```"
   ]
  },
  {
   "cell_type": "raw",
   "metadata": {
    "pycharm": {
     "name": "#%% raw\n"
    }
   },
   "source": [
    "## Problem 2: extra\n",
    "\n",
    "```\n",
    "Implement the \"slow down\" logic. Create a function that will print some text. Create a decorator that takes an argument time_to_sleep, which will be the number of seconds to sleep before executing the function. Decorate the function with the described decorator and test the code with an example. You are free to add any additional logic to the function or the decorator. \n",
    "\n",
    "Իմպլիմենտացրեք \"դանդաղեցնող\" logic. Ստեղծեք ֆունկցիա, որը կտպի որևէ տեքստ։ Ստեղծեք  decorator, որը ստանում է time_to_sleep արգումենտը, որը ցույց է տալիս թե քանի վայրկյան պետք է sleep անել մինչև ֆունկցիան աշխատացնելը։ Decorate արեք ձեր ֆունկցիան նկարագրված decorator-ով ու test-ավորեք code-ը որևէ օրինակով։ Ազատ եք այս հիմնական տրամաբանությանը ավելացնել ցանկացած այլ տրամաբանություն։ \n",
    "```"
   ]
  },
  {
   "cell_type": "code",
   "execution_count": null,
   "metadata": {},
   "outputs": [],
   "source": []
  },
  {
   "cell_type": "raw",
   "metadata": {
    "pycharm": {
     "name": "#%% raw\n"
    }
   },
   "source": [
    "## Problem 3\n",
    "\n",
    "```\n",
    "Suppose that you want to order some food with a delivery. Use Facade Design Pattern and classes of your choice to simulate a scenario of ordering using an application, you can have a dispatcher, a restaurant, a delivery guy and other actors of your choice. The most important thing is that you should have some method which will organize the priority of the steps that need to be taken when you order the delivery and will \"ask\" the right parties to do their job. This should happen without intervention of the client.\n",
    "\n",
    "Պատկերացրեք, որ ցանկանում եք առաքումով ուտելիք պատվիրել։ Գործածեք Facade Design Pattern-ը և ձեր ընտրությամբ ցանկացած class-ներ հավելվածով առաքումով ուտելիք պատվիրելու սցենարը ռեալիազացնելու համար։ Կարող եք ունենալ գրանցող, ռեստորան, առաքիչ կամ ձեր ընտրությամբ այլ տրամաբանական էլեմենտներ։ Ամենակարևոր պայմանն է որևէ ֆունկցիայի մեջ կազմակերպել գործողությունների հերթականությունը և հանձնարարություններ տալ ճիշտ կողմերին առաքումը տրամաբանական ձևով կազմակերպելու համար։ Սա պետք է տեղի ունենա առանց պատվիրատուի բոլոր մանրամասներից տեղյակ լինելու։\n",
    "```"
   ]
  },
  {
   "cell_type": "code",
   "execution_count": null,
   "metadata": {},
   "outputs": [],
   "source": []
  }
 ],
 "metadata": {
  "kernelspec": {
   "display_name": "Python 3",
   "language": "python",
   "name": "python3"
  },
  "language_info": {
   "codemirror_mode": {
    "name": "ipython",
    "version": 3
   },
   "file_extension": ".py",
   "mimetype": "text/x-python",
   "name": "python",
   "nbconvert_exporter": "python",
   "pygments_lexer": "ipython3",
   "version": "3.7.4"
  }
 },
 "nbformat": 4,
 "nbformat_minor": 2
}
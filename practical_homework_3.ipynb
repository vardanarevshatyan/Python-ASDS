{
 "cells": [
  {
   "cell_type": "markdown",
   "metadata": {
    "id": "OzaZ0sNRjcjk"
   },
   "source": [
    "## Problem 1\n",
    "\n",
    "```\n",
    "Use adapter pattern and classes of your choice. Create a structure where you have 1-2 adaptees that have a method that returns some text in spanish. Have an adapter which will have a method that translates the text to english. Have examples of the usage of your class structure.\n",
    "```"
   ]
  },
  {
   "cell_type": "code",
   "execution_count": null,
   "metadata": {
    "id": "EAxLJu4vjcjn"
   },
   "outputs": [],
   "source": []
  },
  {
   "cell_type": "markdown",
   "metadata": {
    "id": "ovGC-8O7jcjp",
    "jp-MarkdownHeadingCollapsed": true,
    "tags": []
   },
   "source": [
    "## Problem 2 : bonus\n",
    "\n",
    "```\n",
    "Imagine that you have a video that you want to play. You have audioplayer (only able to play the audio without showing the video) and videoplayer (only able to display the video without sound). Create classes video (with attributes video, audio, adapter and player, as well as other attributes and methods of your choice), player interface, audioplayer and videoplayers of type player (these should have a method play which should play the media file in case it is in the right fomat and print some other message otherwise), adapters for modifying the media files according to the player used. Feel free to implement the logic however you imagine, using adapter design patter. Also have examples of the usage of your class structure. \n",
    "```"
   ]
  },
  {
   "cell_type": "code",
   "execution_count": null,
   "metadata": {
    "id": "Sc-Ih0Enjcjr"
   },
   "outputs": [],
   "source": []
  },
  {
   "cell_type": "markdown",
   "metadata": {
    "id": "3XFD6uZKjcjs"
   },
   "source": [
    "## Problem 3\n",
    "\n",
    "```\n",
    "Use singleton pattern and classes of your choice. Create a structure where you have some resource that has states busy and free and 3 users that try to use the resource and change the state to busy while they are using it. The resource should be singleton. Implement using 2 different methods for singleton implementation that we have discussed. \n",
    "```"
   ]
  },
  {
   "cell_type": "code",
   "execution_count": null,
   "metadata": {
    "id": "YChxHmxujcjs"
   },
   "outputs": [],
   "source": []
  }
 ],
 "metadata": {
  "colab": {
   "name": "practical_homework_3.ipynb",
   "provenance": []
  },
  "kernelspec": {
   "display_name": "Python 3 (ipykernel)",
   "language": "python",
   "name": "python3"
  },
  "language_info": {
   "codemirror_mode": {
    "name": "ipython",
    "version": 3
   },
   "file_extension": ".py",
   "mimetype": "text/x-python",
   "name": "python",
   "nbconvert_exporter": "python",
   "pygments_lexer": "ipython3",
   "version": "3.9.7"
  }
 },
 "nbformat": 4,
 "nbformat_minor": 4
}
